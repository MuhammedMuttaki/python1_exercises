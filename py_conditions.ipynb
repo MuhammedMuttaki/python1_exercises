{
 "cells": [
  {
   "attachments": {},
   "cell_type": "markdown",
   "metadata": {},
   "source": [
    "# Python-1 - Condition Exercises\n",
    "By Mohammad Muttaqi"
   ]
  },
  {
   "attachments": {},
   "cell_type": "markdown",
   "metadata": {},
   "source": [
    "## Exercise-1"
   ]
  },
  {
   "cell_type": "code",
   "execution_count": 1,
   "metadata": {},
   "outputs": [
    {
     "name": "stdout",
     "output_type": "stream",
     "text": [
      "335 is greater than 66\n"
     ]
    }
   ],
   "source": [
    "# where num1 is greater than num2\n",
    "\n",
    "num1 = 335\n",
    "num2 = 66\n",
    "\n",
    "if num1 > num2:\n",
    "    print(f\"{num1} is greater than {num2}\")\n",
    "else:\n",
    "    print(f\"{num1} is not greater than {num2}\")"
   ]
  },
  {
   "cell_type": "code",
   "execution_count": 2,
   "metadata": {},
   "outputs": [
    {
     "name": "stdout",
     "output_type": "stream",
     "text": [
      "65 is not greater than 66\n"
     ]
    }
   ],
   "source": [
    "# where num1 is not greater than num2\n",
    "\n",
    "num1 = 65\n",
    "num2 = 66\n",
    "\n",
    "if num1 > num2:\n",
    "    print(f\"{num1} is greater than {num2}\")\n",
    "else:\n",
    "    print(f\"{num1} is not greater than {num2}\")"
   ]
  },
  {
   "attachments": {},
   "cell_type": "markdown",
   "metadata": {},
   "source": [
    "##  Exercise-2"
   ]
  },
  {
   "cell_type": "code",
   "execution_count": 5,
   "metadata": {},
   "outputs": [
    {
     "name": "stdout",
     "output_type": "stream",
     "text": [
      "67 is greater than 66\n"
     ]
    }
   ],
   "source": [
    "# where number1 is greater than number2\n",
    "\n",
    "number1 = 67\n",
    "number2 = 66\n",
    "\n",
    "if number1 > number2:\n",
    "    print(f\"{number1} is greater than {number2}\")\n",
    "elif number2 > number1:\n",
    "    print(f\"{number2} is greater than {number1}\")    \n",
    "else:\n",
    "    print(f\"{number1} equals to {number2}\")"
   ]
  },
  {
   "cell_type": "code",
   "execution_count": 6,
   "metadata": {},
   "outputs": [
    {
     "name": "stdout",
     "output_type": "stream",
     "text": [
      "68 is greater than 66\n"
     ]
    }
   ],
   "source": [
    "# where number2 is greater than number1\n",
    "\n",
    "number1 = 66\n",
    "number2 = 68\n",
    "\n",
    "if number1 > number2:\n",
    "    print(f\"{number1} is greater than {number2}\")\n",
    "elif number2 > number1:\n",
    "    print(f\"{number2} is greater than {number1}\")    \n",
    "else:\n",
    "    print(f\"{number1} equals to {number2}\")"
   ]
  },
  {
   "cell_type": "code",
   "execution_count": 7,
   "metadata": {},
   "outputs": [
    {
     "name": "stdout",
     "output_type": "stream",
     "text": [
      "66 equals to 66\n"
     ]
    }
   ],
   "source": [
    "# where number1 is equal to number2\n",
    "\n",
    "number1 = 66\n",
    "number2 = 66\n",
    "\n",
    "if number1 > number2:\n",
    "    print(f\"{number1} is greater than {number2}\")\n",
    "elif number2 > number1:\n",
    "    print(f\"{number2} is greater than {number1}\")    \n",
    "else:\n",
    "    print(f\"{number1} equals to {number2}\")"
   ]
  },
  {
   "attachments": {},
   "cell_type": "markdown",
   "metadata": {},
   "source": [
    "## Exercise-3"
   ]
  },
  {
   "attachments": {},
   "cell_type": "markdown",
   "metadata": {},
   "source": [
    "## Exercise-4"
   ]
  }
 ],
 "metadata": {
  "kernelspec": {
   "display_name": "Python 3",
   "language": "python",
   "name": "python3"
  },
  "language_info": {
   "codemirror_mode": {
    "name": "ipython",
    "version": 3
   },
   "file_extension": ".py",
   "mimetype": "text/x-python",
   "name": "python",
   "nbconvert_exporter": "python",
   "pygments_lexer": "ipython3",
   "version": "3.9.6"
  },
  "orig_nbformat": 4,
  "vscode": {
   "interpreter": {
    "hash": "900bf75fc1409b615d076e1463c45ace5856b07f789d2fbba6325feed7de60b4"
   }
  }
 },
 "nbformat": 4,
 "nbformat_minor": 2
}
