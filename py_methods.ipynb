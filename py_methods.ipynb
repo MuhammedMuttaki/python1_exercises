{
 "cells": [
  {
   "attachments": {},
   "cell_type": "markdown",
   "metadata": {},
   "source": [
    "# Python-1 - Method Exercises\n",
    "By Mohammad Muttaqi"
   ]
  },
  {
   "attachments": {},
   "cell_type": "markdown",
   "metadata": {},
   "source": [
    "## Exercise-1"
   ]
  },
  {
   "cell_type": "code",
   "execution_count": 1,
   "metadata": {},
   "outputs": [
    {
     "name": "stdout",
     "output_type": "stream",
     "text": [
      "<class 'str'>\n",
      "<class 'bool'>\n",
      "<class 'bool'>\n",
      "<class 'int'>\n",
      "<class 'float'>\n",
      "<class 'complex'>\n",
      "<class 'complex'>\n",
      "<class 'list'>\n",
      "<class 'tuple'>\n",
      "<class 'dict'>\n",
      "<class 'set'>\n"
     ]
    }
   ],
   "source": [
    "print(type(\"Hello World\"))\n",
    "print(type(True))\n",
    "print(type(False))\n",
    "print(type(33))\n",
    "print(type(24.5))\n",
    "print(type(4+1j))\n",
    "print(type(4j))\n",
    "print(type([\"lion\", \"monkey\", \"dog\",\"fish\"]))\n",
    "print(type((\"lion\", \"monkey\", \"dog\",\"fish\")))\n",
    "print(type({\"name\" : \"John\", \"surname\" : \"Doe\", \"age\":22}))\n",
    "print(type({\"lion\", \"monkey\", \"dog\",\"fish\"}))"
   ]
  },
  {
   "attachments": {},
   "cell_type": "markdown",
   "metadata": {},
   "source": [
    "##  Exercise-2"
   ]
  },
  {
   "cell_type": "code",
   "execution_count": 9,
   "metadata": {},
   "outputs": [
    {
     "name": "stdout",
     "output_type": "stream",
     "text": [
      "1.3 type = <class 'float'>\n",
      "2 type = <class 'int'>\n",
      "1j type = <class 'complex'>\n",
      "1 type = <class 'int'>\n",
      "2 type = <class 'int'>\n"
     ]
    }
   ],
   "source": [
    "num1 = 1.3 #convert num1 to float and assign to itself\n",
    "num2 = 2.3 #convert num2 to int and assign to itself\n",
    "num3 = 1j #convert num3 to complex and assign to itself\n",
    "num4 = 1.4 #use round method for num4 and assign to itself\n",
    "num5 = 1.5 #use round method for num5 and assign to itself\n",
    "\n",
    "#print them all\n",
    "#print their types\n",
    "\n",
    "num1 = float(num1)\n",
    "num2 = int(num2)\n",
    "num3 = complex(num3)\n",
    "num4 = round(num4)\n",
    "num5 = round(num5)\n",
    "\n",
    "print(num1, 'type =', type(num1))\n",
    "print(num2, 'type =', type(num2))\n",
    "print(num3, 'type =', type(num3))\n",
    "print(num4, 'type =', type(num4))\n",
    "print(num5, 'type =', type(num5))"
   ]
  },
  {
   "attachments": {},
   "cell_type": "markdown",
   "metadata": {},
   "source": [
    "## Exercise-3"
   ]
  },
  {
   "cell_type": "code",
   "execution_count": 18,
   "metadata": {},
   "outputs": [
    {
     "name": "stdout",
     "output_type": "stream",
     "text": [
      "13\n",
      "2\n",
      "223\n"
     ]
    }
   ],
   "source": [
    "\n",
    "'''''\n",
    "cast num1 to string and assign to num1_str\n",
    "check the length of the string\n",
    "get the third element of string (the one in the 3rd order)\n",
    "get the 3-5 elements of string (both inclusive) by string slicing\n",
    "check if num2 in string (cast if necessary)\n",
    "check if num3 in string (cast if necessary)\n",
    "concatenate 0 to the string from left and assign to string_with_0\n",
    "get the characters of string_with_0 from start to position 4 (end point exclusive)\n",
    "get the characters of string_with_0 from position 5 until the end\n",
    "use negative indexing to reach the \"567\" string_with_0\n",
    "'''\n",
    "num1 = 1122334455666\n",
    "\n",
    "num1_str = str(num1)\n",
    "\n",
    "\n",
    "print(len(num1_str))\n",
    "print(num1_str[2])\n",
    "print(num1_str[2:5])"
   ]
  }
 ],
 "metadata": {
  "kernelspec": {
   "display_name": "Python 3",
   "language": "python",
   "name": "python3"
  },
  "language_info": {
   "codemirror_mode": {
    "name": "ipython",
    "version": 3
   },
   "file_extension": ".py",
   "mimetype": "text/x-python",
   "name": "python",
   "nbconvert_exporter": "python",
   "pygments_lexer": "ipython3",
   "version": "3.11.1 (tags/v3.11.1:a7a450f, Dec  6 2022, 19:58:39) [MSC v.1934 64 bit (AMD64)]"
  },
  "orig_nbformat": 4,
  "vscode": {
   "interpreter": {
    "hash": "bdb715d3f28895bf8d1f1f0337a53a101c9666f588645ae97659721ee0d271c0"
   }
  }
 },
 "nbformat": 4,
 "nbformat_minor": 2
}
